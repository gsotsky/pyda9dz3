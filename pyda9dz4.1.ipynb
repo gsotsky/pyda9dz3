{
 "cells": [
  {
   "cell_type": "markdown",
   "metadata": {},
   "source": [
    "<h1>Домашнее задание «Управляющие конструкции и коллекции», часть 2</h1>\n",
    "<h2>Преподаватель: Олег Булыгин</h2>\n",
    "<h3>Студент: Григорий Сотский</h3>\n",
    "<i>22.04.2020</i><br>\n",
    "<i>Доработано 30.04.2020</i>"
   ]
  },
  {
   "cell_type": "markdown",
   "metadata": {},
   "source": [
    "<h3>Задача 1.</h3> \n",
    "<p>Дан список с визитами по городам и странам. Напишите код, который возвращает отфильтрованный список geo_logs, содержащий только визиты из России.</p>\n",
    "\n",
    "<hr>    "
   ]
  },
  {
   "cell_type": "code",
   "execution_count": 1,
   "metadata": {},
   "outputs": [],
   "source": [
    "geo_logs = [\n",
    "    {'visit1': ['Москва', 'Россия']},\n",
    "    {'visit2': ['Дели', 'Индия']},\n",
    "    {'visit3': ['Владимир', 'Россия']},\n",
    "    {'visit4': ['Лиссабон', 'Португалия']},\n",
    "    {'visit5': ['Париж', 'Франция']},\n",
    "    {'visit6': ['Лиссабон', 'Португалия']},\n",
    "    {'visit7': ['Тула', 'Россия']},\n",
    "    {'visit8': ['Тула', 'Россия']},\n",
    "    {'visit9': ['Курск', 'Россия']},\n",
    "    {'visit10': ['Архангельск', 'Россия']},\n",
    "    {'visit11': ['Москва', 'Россия']}\n",
    "]"
   ]
  },
  {
   "cell_type": "code",
   "execution_count": 2,
   "metadata": {},
   "outputs": [
    {
     "name": "stdout",
     "output_type": "stream",
     "text": [
      "dict_items([('visit1', ['Москва', 'Россия'])])\n",
      "dict_items([('visit11', ['Москва', 'Россия'])])\n"
     ]
    }
   ],
   "source": [
    "for visits in geo_logs:\n",
    "    for city in visits.values():\n",
    "        if city==['Москва', 'Россия']:\n",
    "            print(visits.items())"
   ]
  },
  {
   "cell_type": "code",
   "execution_count": 3,
   "metadata": {},
   "outputs": [
    {
     "data": {
      "text/plain": [
       "[{'visit1': ['Москва', 'Россия']}, {'visit11': ['Москва', 'Россия']}]"
      ]
     },
     "execution_count": 3,
     "metadata": {},
     "output_type": "execute_result"
    }
   ],
   "source": [
    "# Одной строкой\n",
    "[visits for visits in geo_logs for visits_Moscow in visits.values() if visits_Moscow==['Москва', 'Россия']]"
   ]
  },
  {
   "cell_type": "code",
   "execution_count": 4,
   "metadata": {},
   "outputs": [
    {
     "name": "stdout",
     "output_type": "stream",
     "text": [
      "dict_items([('visit1', ['Москва', 'Россия'])])\n",
      "dict_items([('visit3', ['Владимир', 'Россия'])])\n",
      "dict_items([('visit7', ['Тула', 'Россия'])])\n",
      "dict_items([('visit8', ['Тула', 'Россия'])])\n",
      "dict_items([('visit9', ['Курск', 'Россия'])])\n",
      "dict_items([('visit10', ['Архангельск', 'Россия'])])\n",
      "dict_items([('visit11', ['Москва', 'Россия'])])\n"
     ]
    }
   ],
   "source": [
    "#Визиты из России\n",
    "for visits in geo_logs:\n",
    "    for country in visits.values():\n",
    "        if country[1]=='Россия':\n",
    "            print(visits.items())"
   ]
  },
  {
   "cell_type": "code",
   "execution_count": 5,
   "metadata": {},
   "outputs": [
    {
     "data": {
      "text/plain": [
       "[{'visit1': ['Москва', 'Россия']},\n",
       " {'visit3': ['Владимир', 'Россия']},\n",
       " {'visit7': ['Тула', 'Россия']},\n",
       " {'visit8': ['Тула', 'Россия']},\n",
       " {'visit9': ['Курск', 'Россия']},\n",
       " {'visit10': ['Архангельск', 'Россия']},\n",
       " {'visit11': ['Москва', 'Россия']}]"
      ]
     },
     "execution_count": 5,
     "metadata": {},
     "output_type": "execute_result"
    }
   ],
   "source": [
    "[visits for visits in geo_logs for visits_Russia in visits.values() if visits_Russia[1]=='Россия']"
   ]
  },
  {
   "cell_type": "markdown",
   "metadata": {},
   "source": [
    "<h4>конец задачи 1</h4><hr>"
   ]
  },
  {
   "cell_type": "markdown",
   "metadata": {},
   "source": [
    "<h3>Задача 2. </h3>\n",
    "<p> Выведите на экран все уникальные гео-ID из значений словаря ids. Т. е. список вида [213, 15, 54, 119, 98, 35]</p>"
   ]
  },
  {
   "cell_type": "code",
   "execution_count": 6,
   "metadata": {},
   "outputs": [],
   "source": [
    "geo_ids = {'user1': [213, 213, 213, 15, 213], \n",
    "       'user2': [54, 54, 119, 119, 119], \n",
    "       'user3': [213, 98, 98, 35]}"
   ]
  },
  {
   "cell_type": "code",
   "execution_count": 7,
   "metadata": {},
   "outputs": [
    {
     "name": "stdout",
     "output_type": "stream",
     "text": [
      "[98, 35, 213, 54, 119, 15]\n"
     ]
    }
   ],
   "source": [
    "list_unique_geo_id=()\n",
    "for geo_id in geo_ids.values():\n",
    "    list_unique_geo_id=list(set(list_unique_geo_id) | set(geo_id))\n",
    "print(list_unique_geo_id)"
   ]
  },
  {
   "cell_type": "markdown",
   "metadata": {},
   "source": [
    "<h4>Конец задачи 2</h4><hr>"
   ]
  },
  {
   "cell_type": "markdown",
   "metadata": {},
   "source": [
    "<h3>Задача 3.</h3> <p>Дан список поисковых запросов. Получить распределение количества слов в них. Т. е. поисковых запросов из одного - слова 5%, из двух - 7%, из трех - 3% и т.д."
   ]
  },
  {
   "cell_type": "code",
   "execution_count": 8,
   "metadata": {},
   "outputs": [],
   "source": [
    "queries = [\n",
    "    'смотреть сериалы онлайн',\n",
    "    'новости спорта',\n",
    "    'афиша кино',\n",
    "    'однослово',\n",
    "    'четыре слова четыре слова',\n",
    "    'курс доллара',\n",
    "    'сериалы этим летом',\n",
    "    'раз два три четыре пять',\n",
    "    'курс по питону',\n",
    "    'сериалы про спорт',\n",
    "    'раз два три четыре пять шесть семь восемь',\n",
    "    'раз два три чет пят шес сем вос дев дес од двен',\n",
    "    'раз два три четыре пьять'\n",
    "]"
   ]
  },
  {
   "cell_type": "code",
   "execution_count": 9,
   "metadata": {},
   "outputs": [
    {
     "name": "stdout",
     "output_type": "stream",
     "text": [
      " Запросов из одного слова:  7 % \n",
      " Запросов из двух слов:  23 % \n",
      " Запросов из трех слов:  30 % \n",
      " Запросов из большего количества слов:  38 %\n"
     ]
    }
   ],
   "source": [
    "list_n=[]\n",
    "for query in set(queries):\n",
    "    list_n.append(len(query.split()))\n",
    "    one=list_n.count(1)\n",
    "    two=list_n.count(2)\n",
    "    three=list_n.count(3)\n",
    "    all=len(list_n)\n",
    "    other=all-one-two-three\n",
    "\n",
    "print(' Запросов из одного слова: ', int(one/all*100),'%','\\n', 'Запросов из двух слов: ', int(two/all*100),'%','\\n', 'Запросов из трех слов: ', int(three/all*100),'%','\\n', 'Запросов из большего количества слов: ', int(other/all*100), '%')"
   ]
  },
  {
   "cell_type": "code",
   "execution_count": 10,
   "metadata": {},
   "outputs": [
    {
     "name": "stdout",
     "output_type": "stream",
     "text": [
      "Запросов из 12 слов = 7.7 %\n",
      "Запросов из 8 слов = 7.7 %\n",
      "Запросов из 5 слов = 15.4 %\n",
      "Запросов из 4 слов = 7.7 %\n",
      "Запросов из 3 слов = 30.8 %\n",
      "Запросов из 2 слов = 23.1 %\n",
      "Запросов из 1 слов = 7.7 %\n"
     ]
    }
   ],
   "source": [
    "# Доработанное решение\n",
    "list_n=[]\n",
    "i=1\n",
    "m=0\n",
    "for query in set(queries):\n",
    "    list_n.append(len(query.split()))\n",
    "list_n=sorted(list_n)\n",
    "for zzz in list_n:\n",
    "    n=list_n[-i]\n",
    "    i=i+1\n",
    "    zzz=list_n.count(n)\n",
    "    if n!=m:\n",
    "        m=n\n",
    "        print('Запросов из', n, 'слов =', round((zzz/len(list_n)*100),1), '%')"
   ]
  },
  {
   "cell_type": "markdown",
   "metadata": {},
   "source": [
    "<h4>Конец задачи 3</h4><hr>"
   ]
  },
  {
   "cell_type": "markdown",
   "metadata": {},
   "source": [
    "<h3>Задача 4.</h3><p>Дана статистика рекламных каналов по объемам продаж. Напишите скрипт, который возвращает название канала с максимальным объемом. Т. е. в данном примере скрипт должен возвращать 'yandex'.</p>"
   ]
  },
  {
   "cell_type": "code",
   "execution_count": 11,
   "metadata": {},
   "outputs": [],
   "source": [
    "stats = {'facebook': 55, 'yandex': 120, 'vk': 115, 'google': 99, 'email': 42, 'ok': 98}"
   ]
  },
  {
   "cell_type": "code",
   "execution_count": 12,
   "metadata": {},
   "outputs": [
    {
     "name": "stdout",
     "output_type": "stream",
     "text": [
      "yandex 120\n"
     ]
    }
   ],
   "source": [
    "brand_chanels=0\n",
    "for brand in stats:\n",
    "    if stats[brand] >= brand_chanels:\n",
    "        brand_chanels = stats[brand]\n",
    "        brand_max=brand\n",
    "print(brand_max, brand_chanels)"
   ]
  },
  {
   "cell_type": "code",
   "execution_count": 13,
   "metadata": {},
   "outputs": [
    {
     "name": "stdout",
     "output_type": "stream",
     "text": [
      "yandex 120\n"
     ]
    }
   ],
   "source": [
    "list_chanels=[]\n",
    "for brandd in stats:\n",
    "    list_chanels.append(stats[brandd])\n",
    "    if stats[brandd]==max(list_chanels):\n",
    "        brandd_max=brandd\n",
    "print(brandd_max, max(list_chanels))"
   ]
  },
  {
   "cell_type": "code",
   "execution_count": 14,
   "metadata": {},
   "outputs": [
    {
     "name": "stdout",
     "output_type": "stream",
     "text": [
      "(120, 'yandex')\n"
     ]
    }
   ],
   "source": [
    "list_brands = [(value, key) for key, value in stats.items()]\n",
    "print (max(list_brands))"
   ]
  },
  {
   "cell_type": "markdown",
   "metadata": {},
   "source": [
    "<h4>конец задачи 4</h4><hr>"
   ]
  },
  {
   "cell_type": "markdown",
   "metadata": {},
   "source": [
    "<h3>Задача 5.</h3><p>Напишите код для преобразования произвольного списка вида ['2018-01-01', 'yandex', 'cpc', 100] (он может быть любой длины) в словарь {'2018-01-01': {'yandex': {'cpc': 100}}}</p>"
   ]
  },
  {
   "cell_type": "code",
   "execution_count": 15,
   "metadata": {},
   "outputs": [
    {
     "name": "stdout",
     "output_type": "stream",
     "text": [
      "{'2018-01-01': {'yandex': {'cpc': 100}}}\n"
     ]
    }
   ],
   "source": [
    "#Понятное решение без цикла и произвольной длины\n",
    "arbitrary_list=['2018-01-01', 'yandex', 'cpc', 100]\n",
    "arbitrary_dict={}\n",
    "arbitrary_dict1={}\n",
    "arbitrary_dict2={}\n",
    "n=len(arbitrary_list)-1\n",
    "\n",
    "arbitrary_dict2[arbitrary_list[n-1]]=arbitrary_list[n]\n",
    "arbitrary_dict1[arbitrary_list[n-2]]=arbitrary_dict2\n",
    "arbitrary_dict[arbitrary_list[n-3]]=arbitrary_dict1\n",
    "\n",
    "print(arbitrary_dict)"
   ]
  },
  {
   "cell_type": "code",
   "execution_count": 16,
   "metadata": {},
   "outputs": [
    {
     "name": "stdout",
     "output_type": "stream",
     "text": [
      "{'2018-01-01': {'yandex': {'cpc': 100}}}\n"
     ]
    }
   ],
   "source": [
    "#Верное, но какое то кривое и не совсем понятное решение\n",
    "arbitrary_list=['2018-01-01', 'yandex', 'cpc', 100]\n",
    "arbitrary_dict=arbitrary_list[-1]\n",
    "i=1\n",
    "for var in arbitrary_list[  : 0 : -1]:\n",
    "    arbitrary_dict={arbitrary_list[-1-i]:arbitrary_dict}\n",
    "    i+=1\n",
    "print(arbitrary_dict)"
   ]
  },
  {
   "cell_type": "code",
   "execution_count": 17,
   "metadata": {},
   "outputs": [
    {
     "name": "stdout",
     "output_type": "stream",
     "text": [
      "{'2018-01-01': {'yandex': {'cpc': {100: {}}}}}\n"
     ]
    }
   ],
   "source": [
    "#Более понятное, но не совсем верное решение\n",
    "random_list=['2018-01-01', 'yandex', 'cpc', 100]\n",
    "random_list.reverse()\n",
    "random_dict={}\n",
    "\n",
    "for random_element in random_list:\n",
    "    random_dict={random_element:random_dict}\n",
    "\n",
    "print(random_dict)"
   ]
  },
  {
   "cell_type": "code",
   "execution_count": 18,
   "metadata": {},
   "outputs": [
    {
     "name": "stdout",
     "output_type": "stream",
     "text": [
      "{'2018-01-01': {'yandex': {'cpc': 100}}}\n"
     ]
    }
   ],
   "source": [
    "#Ручной допил )\n",
    "n=len(random_list)-1\n",
    "#Как добраться до значения последнего справочника, если мы не знаем длину?\n",
    "random_dict[random_list[n]][random_list[n-1]][random_list[n-2]]=random_list[0]\n",
    "print(random_dict)"
   ]
  },
  {
   "cell_type": "markdown",
   "metadata": {},
   "source": [
    "<h4>Конец задачи 5</h4><hr>"
   ]
  },
  {
   "cell_type": "markdown",
   "metadata": {},
   "source": [
    "<h3>Конец домашнего задания</h3>"
   ]
  }
 ],
 "metadata": {
  "kernelspec": {
   "display_name": "Python 3",
   "language": "python",
   "name": "python3"
  },
  "language_info": {
   "codemirror_mode": {
    "name": "ipython",
    "version": 3
   },
   "file_extension": ".py",
   "mimetype": "text/x-python",
   "name": "python",
   "nbconvert_exporter": "python",
   "pygments_lexer": "ipython3",
   "version": "3.7.6"
  }
 },
 "nbformat": 4,
 "nbformat_minor": 4
}
