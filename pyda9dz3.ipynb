{
 "cells": [
  {
   "cell_type": "markdown",
   "metadata": {},
   "source": [
    "<h1>Домашнее задание «Управляющие конструкции и коллекции»</h1>\n",
    "<h2>Преподаватель: Олег Булыгин</h2>\n",
    "<h3>Студент: Григорий Сотский</h3>\n",
    "<i>19.04.2020</i>"
   ]
  },
  {
   "cell_type": "markdown",
   "metadata": {},
   "source": [
    "<h3>Задача 1.</h3> \n",
    "<pДано слово из латинских букв. Напишите скрипт, который выводит на экран букву из середины слова (если число букв нечетное). <br>\n",
    "Если букв четное число, то на экран выводятся две буквы из середины.<br>\n",
    "\n",
    "Пример: для <font color=red>'test'</font> должно выводится <font color=red>'es'</font>, для <font color=red>'testing' - 't'</font></p>\n",
    "<hr>    "
   ]
  },
  {
   "cell_type": "code",
   "execution_count": 1,
   "metadata": {},
   "outputs": [
    {
     "name": "stdout",
     "output_type": "stream",
     "text": [
      "Введите слово из латинских букв:\n",
      "abrakadabra\n"
     ]
    }
   ],
   "source": [
    "print('Введите слово из латинских букв:')\n",
    "word = str(input())"
   ]
  },
  {
   "cell_type": "code",
   "execution_count": 2,
   "metadata": {},
   "outputs": [
    {
     "name": "stdout",
     "output_type": "stream",
     "text": [
      "k - буква из середины слова\n"
     ]
    }
   ],
   "source": [
    "if len(word) % 2 == 0:\n",
    "    print(word[int(len(word)/2-1):int(len(word)/2+1)], '- две буквы из середины')\n",
    "else:\n",
    "    print(word[int(len(word)/2-1):int(len(word)/2)], '- буква из середины слова')"
   ]
  },
  {
   "cell_type": "markdown",
   "metadata": {},
   "source": [
    "<h4>конец задачи 1</h4><hr>"
   ]
  },
  {
   "cell_type": "markdown",
   "metadata": {},
   "source": [
    "<h3>Задача 2. </h3>\n",
    "<p>Мы делаем MVP dating-сервиса, и у нас есть список парней и девушек (их число может варьироваться):</p>\n",
    "\n",
    "<p>Выдвигаем гипотезу: лучшие рекомендации мы получим, если просто отсортируем имена по алфавиту и познакомим людей с одинаковыми индексами после сортировки! \"Познакомить\" пары нам поможет функция zip, а в цикле распакуем zip-объект и выведем информацию в виде:</p>\n",
    "\n",
    "Идеальные пары:<br>\n",
    "Alex и Emma<br>\n",
    "Arthur и Kate<br>\n",
    "John и Kira<br>\n",
    "Peter и Liza<br>\n",
    "Richard и Trisha<br>\n",
    "<br>\n",
    "<p>Внимание! Если количество людей в списках будет не совпадать, то мы никого знакомить не будет и выведем пользователю предупреждение, что кто-то может остаться без пары!</p>"
   ]
  },
  {
   "cell_type": "code",
   "execution_count": 3,
   "metadata": {},
   "outputs": [],
   "source": [
    "boys = ['Peter', 'Alex', 'John', 'Arthur', 'Richard']\n",
    "girls = ['Kate', 'Liza', 'Kira', 'Emma', 'Trisha']"
   ]
  },
  {
   "cell_type": "code",
   "execution_count": 4,
   "metadata": {},
   "outputs": [
    {
     "name": "stdout",
     "output_type": "stream",
     "text": [
      "Идеальные пары:\n",
      "1 Alex и Emma\n",
      "2 Arthur и Kate\n",
      "3 John и Kira\n",
      "4 Peter и Liza\n",
      "5 Richard и Trisha\n"
     ]
    }
   ],
   "source": [
    "dates = zip(sorted(boys), sorted (girls))\n",
    "if len(boys)==len(girls):\n",
    "    print('Идеальные пары:')\n",
    "    for i, pair in enumerate(dates):\n",
    "        print(i+1, pair[0], 'и', pair[1])\n",
    "else:\n",
    "    print(\"Не равное количество пар\")"
   ]
  },
  {
   "cell_type": "markdown",
   "metadata": {},
   "source": [
    "<h4>Конец задачи 2</h4><hr>"
   ]
  },
  {
   "cell_type": "markdown",
   "metadata": {},
   "source": [
    "<h3>Задача 3.</h3> <p>У нас есть список, содержащий информацию \n",
    "о среднедневной температуре в Фаренгейтах за недельный период по странам.<br> \n",
    "Необходимо написать код, который рассчитает среднюю температуру за неделю в Цельсиях для каждой страны.</p>\n",
    "\n",
    "<code>Формула: (°F − 32) × 5/9 = 0°C</code>"
   ]
  },
  {
   "cell_type": "code",
   "execution_count": 6,
   "metadata": {},
   "outputs": [],
   "source": [
    "countries_temperature = [\n",
    " ['Thailand', [75.2, 77, 78.8, 73.4, 68, 75.2, 77]],\n",
    " ['Germany', [57.2, 55.4, 59, 59, 53.6, 55.4, 57.2]],\n",
    " ['Russia', [35.6, 37.4, 39.2, 41, 42.8, 39.2, 35.6]],\n",
    " ['Poland', [50, 50, 53.6, 57.2, 55.4, 55.4, 51.8]],\n",
    "]"
   ]
  },
  {
   "cell_type": "code",
   "execution_count": 7,
   "metadata": {},
   "outputs": [
    {
     "name": "stdout",
     "output_type": "stream",
     "text": [
      "Средняя температура за неделю в странах в градусах по Цельсию:\n",
      "Thailand : 23.85714285714285\n",
      "Germany : 13.71428571428571\n",
      "Russia : 3.714285714285717\n",
      "Poland : 11.857142857142856\n"
     ]
    }
   ],
   "source": [
    "print(\"Средняя температура за неделю в странах в градусах по Цельсию:\")\n",
    "for t in countries_temperature:\n",
    "    c=(sum(t[1])/len(t[1])-32)*5/9\n",
    "    print(t[0],':', c)"
   ]
  },
  {
   "cell_type": "markdown",
   "metadata": {},
   "source": [
    "<h4>Конец задачи 3</h4><hr>"
   ]
  },
  {
   "cell_type": "markdown",
   "metadata": {},
   "source": [
    "<h3>Задача 4.</h3><p> Дан поток логов по количеству просмотренных страниц для каждого пользователя. Список отсортирован по ID пользователя. Вам необходимо написать алгоритм, который считает среднее значение просмотров на пользователя. Т. е. надо посчитать отношение суммы всех просмотров к количеству уникальных пользователей.</p>"
   ]
  },
  {
   "cell_type": "code",
   "execution_count": 8,
   "metadata": {},
   "outputs": [],
   "source": [
    "stream = [\n",
    "    '2018-01-01,user1,3',\n",
    "    '2018-01-07,user1,4',\n",
    "    '2018-03-29,user1,1',\n",
    "    '2018-04-04,user1,13',\n",
    "    '2018-01-05,user2,7',\n",
    "    '2018-06-14,user3,4',\n",
    "    '2018-07-02,user3,10',\n",
    "    '2018-03-21,user4,19',\n",
    "    '2018-03-22,user4,4',\n",
    "    '2018-04-22,user4,8',\n",
    "    '2018-05-03,user4,9',\n",
    "    '2018-05-11,user4,11',\n",
    "]"
   ]
  },
  {
   "cell_type": "code",
   "execution_count": 9,
   "metadata": {},
   "outputs": [
    {
     "name": "stdout",
     "output_type": "stream",
     "text": [
      "93\n"
     ]
    }
   ],
   "source": [
    "n=0\n",
    "for str in stream:\n",
    "    str=int(str.split(',')[2])\n",
    "    n=n+str \n",
    "\n",
    "print(n)"
   ]
  },
  {
   "cell_type": "code",
   "execution_count": 10,
   "metadata": {},
   "outputs": [
    {
     "name": "stdout",
     "output_type": "stream",
     "text": [
      "4\n"
     ]
    }
   ],
   "source": [
    "user_count=0\n",
    "user_temp=[]\n",
    "for user in stream:\n",
    "    user=user.split(',')[1]\n",
    "\n",
    "    if user!=user_temp:\n",
    "        user_count=user_count+1\n",
    "        user_temp=user\n",
    "\n",
    "print(user_count)"
   ]
  },
  {
   "cell_type": "code",
   "execution_count": 11,
   "metadata": {},
   "outputs": [
    {
     "name": "stdout",
     "output_type": "stream",
     "text": [
      "отношение суммы всех просмотров к количеству уникальных пользователей =  23.25\n"
     ]
    }
   ],
   "source": [
    "print('отношение суммы всех просмотров к количеству уникальных пользователей = ', n/user_count)"
   ]
  },
  {
   "cell_type": "markdown",
   "metadata": {},
   "source": [
    "<font color=red>Вопрос к преподавателю: Почему не получилось объединить циклы?</font>"
   ]
  },
  {
   "cell_type": "code",
   "execution_count": 13,
   "metadata": {},
   "outputs": [
    {
     "ename": "ValueError",
     "evalue": "too many values to unpack (expected 2)",
     "output_type": "error",
     "traceback": [
      "\u001b[1;31m---------------------------------------------------------------------------\u001b[0m",
      "\u001b[1;31mValueError\u001b[0m                                Traceback (most recent call last)",
      "\u001b[1;32m<ipython-input-13-34a90eb48079>\u001b[0m in \u001b[0;36m<module>\u001b[1;34m\u001b[0m\n\u001b[0;32m      2\u001b[0m \u001b[0muser_count\u001b[0m\u001b[1;33m=\u001b[0m\u001b[1;36m0\u001b[0m\u001b[1;33m\u001b[0m\u001b[1;33m\u001b[0m\u001b[0m\n\u001b[0;32m      3\u001b[0m \u001b[0muser_temp\u001b[0m\u001b[1;33m=\u001b[0m\u001b[1;33m[\u001b[0m\u001b[1;33m]\u001b[0m\u001b[1;33m\u001b[0m\u001b[1;33m\u001b[0m\u001b[0m\n\u001b[1;32m----> 4\u001b[1;33m \u001b[1;32mfor\u001b[0m \u001b[0muser\u001b[0m\u001b[1;33m,\u001b[0m \u001b[0mstr\u001b[0m \u001b[1;32min\u001b[0m \u001b[0mstream\u001b[0m\u001b[1;33m:\u001b[0m\u001b[1;33m\u001b[0m\u001b[1;33m\u001b[0m\u001b[0m\n\u001b[0m\u001b[0;32m      5\u001b[0m     \u001b[0mstr\u001b[0m\u001b[1;33m=\u001b[0m\u001b[0mint\u001b[0m\u001b[1;33m(\u001b[0m\u001b[0mstr\u001b[0m\u001b[1;33m.\u001b[0m\u001b[0msplit\u001b[0m\u001b[1;33m(\u001b[0m\u001b[1;34m','\u001b[0m\u001b[1;33m)\u001b[0m\u001b[1;33m[\u001b[0m\u001b[1;36m2\u001b[0m\u001b[1;33m]\u001b[0m\u001b[1;33m)\u001b[0m\u001b[1;33m\u001b[0m\u001b[1;33m\u001b[0m\u001b[0m\n\u001b[0;32m      6\u001b[0m     \u001b[0mn\u001b[0m\u001b[1;33m=\u001b[0m\u001b[0mn\u001b[0m\u001b[1;33m+\u001b[0m\u001b[0mstr\u001b[0m\u001b[1;33m\u001b[0m\u001b[1;33m\u001b[0m\u001b[0m\n",
      "\u001b[1;31mValueError\u001b[0m: too many values to unpack (expected 2)"
     ]
    }
   ],
   "source": [
    "n=0\n",
    "user_count=0\n",
    "user_temp=[]\n",
    "for user, str in stream: # Почему здесь ошибка?\n",
    "    str=int(str.split(',')[2])\n",
    "    n=n+str \n",
    "    user=user.split(',')[1]\n",
    "\n",
    "    if user!=user_temp:\n",
    "        user_count=user_count+1\n",
    "        user_temp=user    \n",
    "\n",
    "print('отношение суммы всех просмотров к количеству уникальных пользователей = ', n/user_count)"
   ]
  },
  {
   "cell_type": "markdown",
   "metadata": {},
   "source": [
    "<h4>конец задачи 3</h4><hr>"
   ]
  },
  {
   "cell_type": "markdown",
   "metadata": {},
   "source": [
    "<h3>Задача 5.</h3><p> Дана статистика рекламных кампаний по дням. \n",
    "Напишите алгоритм, который по паре дата-кампания ищет значение численного столбца. <br>\n",
    "Т. е. для даты <font color=red>'2018-01-01'</font> и <font color=red>'google'</font> нужно получить число 25. Считайте, что все комбинации дата-кампания уникальны.</p>"
   ]
  },
  {
   "cell_type": "code",
   "execution_count": 14,
   "metadata": {},
   "outputs": [],
   "source": [
    "stats = [\n",
    "    ['2018-01-01', 'google', 25],\n",
    "    ['2018-01-01', 'yandex', 65],\n",
    "    ['2018-01-01', 'market', 89],\n",
    "    ['2018-01-02', 'google', 574],\n",
    "    ['2018-01-02', 'yandex', 249],\n",
    "    ['2018-01-02', 'market', 994],\n",
    "    ['2018-01-03', 'google', 1843],\n",
    "    ['2018-01-03', 'yandex', 1327],\n",
    "    ['2018-01-03', 'market', 1764],\n",
    "]"
   ]
  },
  {
   "cell_type": "code",
   "execution_count": 15,
   "metadata": {},
   "outputs": [
    {
     "name": "stdout",
     "output_type": "stream",
     "text": [
      "Введите дату в формате гггг-мм-дд:\n",
      "2018-01-02\n"
     ]
    }
   ],
   "source": [
    "print('Введите дату в формате гггг-мм-дд:')\n",
    "date = input()"
   ]
  },
  {
   "cell_type": "code",
   "execution_count": 16,
   "metadata": {},
   "outputs": [
    {
     "name": "stdout",
     "output_type": "stream",
     "text": [
      "Введите название бренда:\n",
      "google\n"
     ]
    }
   ],
   "source": [
    "print('Введите название бренда:')\n",
    "brand = input()"
   ]
  },
  {
   "cell_type": "code",
   "execution_count": 17,
   "metadata": {},
   "outputs": [
    {
     "name": "stdout",
     "output_type": "stream",
     "text": [
      "2018-01-02 компанией google было проведено 574 рекламных компаний\n"
     ]
    }
   ],
   "source": [
    "x=0\n",
    "for pr in stats:\n",
    "    d, b, pr = stats[x]\n",
    "    if d == date and b == brand:\n",
    "        print(date, 'компанией', b, 'было проведено', pr, 'рекламных компаний')\n",
    "        x=x+1\n",
    "    else:\n",
    "        x=x+1"
   ]
  },
  {
   "cell_type": "markdown",
   "metadata": {},
   "source": [
    "<h4>Конец задачи 5</h4><hr>"
   ]
  },
  {
   "cell_type": "markdown",
   "metadata": {},
   "source": [
    "<h3>Задание 6.</h3><p? Напишите код, который будет вычислять сумму элементов на диагонали. Т. е. 13+32+23+35.<br>\n",
    "Список может быть любой длины, но всегда является \"квадратным\" (количество элементов во вложенных списках равно их количеству).</p>"
   ]
  },
  {
   "cell_type": "code",
   "execution_count": 18,
   "metadata": {},
   "outputs": [],
   "source": [
    "\n",
    "data = [\n",
    "    [13, 25, 23, 34],\n",
    "    [45, 32, 44, 47],\n",
    "    [12, 33, 23, 95],\n",
    "    [13, 53, 34, 35]\n",
    "]"
   ]
  },
  {
   "cell_type": "code",
   "execution_count": 20,
   "metadata": {},
   "outputs": [
    {
     "name": "stdout",
     "output_type": "stream",
     "text": [
      "103\n"
     ]
    }
   ],
   "source": [
    "q=0\n",
    "y=0\n",
    "\n",
    "while q != len(data):\n",
    "    y=y+data[q][q]\n",
    "    q+=1\n",
    "\n",
    "print(y)"
   ]
  },
  {
   "cell_type": "markdown",
   "metadata": {},
   "source": [
    "<h4>Конец задачи 6</h4><hr>"
   ]
  },
  {
   "cell_type": "markdown",
   "metadata": {},
   "source": [
    "<h3>Конец домашнего задания</h3>"
   ]
  },
  {
   "cell_type": "code",
   "execution_count": null,
   "metadata": {},
   "outputs": [],
   "source": []
  }
 ],
 "metadata": {
  "kernelspec": {
   "display_name": "Python 3",
   "language": "python",
   "name": "python3"
  },
  "language_info": {
   "codemirror_mode": {
    "name": "ipython",
    "version": 3
   },
   "file_extension": ".py",
   "mimetype": "text/x-python",
   "name": "python",
   "nbconvert_exporter": "python",
   "pygments_lexer": "ipython3",
   "version": "3.7.6"
  }
 },
 "nbformat": 4,
 "nbformat_minor": 4
}
